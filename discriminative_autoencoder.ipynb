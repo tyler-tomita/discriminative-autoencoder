{
  "nbformat": 4,
  "nbformat_minor": 0,
  "metadata": {
    "colab": {
      "provenance": [],
      "authorship_tag": "ABX9TyOiYmUe0wYYg3O0nBzN1nP1",
      "include_colab_link": true
    },
    "kernelspec": {
      "name": "python3",
      "display_name": "Python 3"
    },
    "language_info": {
      "name": "python"
    }
  },
  "cells": [
    {
      "cell_type": "markdown",
      "metadata": {
        "id": "view-in-github",
        "colab_type": "text"
      },
      "source": [
        "<a href=\"https://colab.research.google.com/github/tyler-tomita/discriminative-autoencoder/blob/main/discriminative_autoencoder.ipynb\" target=\"_parent\"><img src=\"https://colab.research.google.com/assets/colab-badge.svg\" alt=\"Open In Colab\"/></a>"
      ]
    },
    {
      "cell_type": "code",
      "execution_count": 1,
      "metadata": {
        "colab": {
          "base_uri": "https://localhost:8080/"
        },
        "id": "CQu2t6fD-TQ_",
        "outputId": "5cb7b3eb-1f68-4a92-d8e8-33f06aa1a354"
      },
      "outputs": [
        {
          "output_type": "stream",
          "name": "stdout",
          "text": [
            "cpu\n",
            "Mounted at /content/gdrive\n",
            "Cloning into 'discriminative-autoencoder'...\n",
            "remote: Enumerating objects: 15, done.\u001b[K\n",
            "remote: Counting objects: 100% (15/15), done.\u001b[K\n",
            "remote: Compressing objects: 100% (10/10), done.\u001b[K\n",
            "remote: Total 15 (delta 5), reused 14 (delta 4), pack-reused 0\u001b[K\n",
            "Unpacking objects: 100% (15/15), 12.35 KiB | 1.76 MiB/s, done.\n"
          ]
        }
      ],
      "source": [
        "from __future__ import unicode_literals, print_function, division\n",
        "from io import open\n",
        "import unicodedata\n",
        "import string\n",
        "\n",
        "import torch\n",
        "import torch.nn as nn\n",
        "from torch import optim\n",
        "import torch.nn.functional as F\n",
        "from torch.utils.data import Dataset, DataLoader, Subset\n",
        "from torchvision.transforms import ToTensor, Compose\n",
        "from IPython import display\n",
        "from time import sleep\n",
        "\n",
        "device = torch.device(\"cuda\" if torch.cuda.is_available() else \"cpu\")\n",
        "print(device)\n",
        "\n",
        "from PIL import Image\n",
        "\n",
        "import re\n",
        "import random\n",
        "\n",
        "import numpy as np\n",
        "\n",
        "import matplotlib.pyplot as plt\n",
        "import matplotlib.ticker as ticker\n",
        "import matplotlib\n",
        "%matplotlib inline\n",
        "\n",
        "import time\n",
        "import math\n",
        "\n",
        "import copy\n",
        "\n",
        "from google.colab import drive, runtime\n",
        "drive.mount('/content/gdrive')\n",
        "\n",
        "!git clone https://github.com/tyler-tomita/discriminative-autoencoder.git\n",
        "import sys\n",
        "sys.path.insert(0,'/content/drive/My Drive/Colab Notebooks')\n",
        "sys.path.insert(0, '/content/discriminative-autoencoder')\n",
        "\n",
        "from resnet_encoder import BasicBlock, Bottleneck\n",
        "from resnet_decoder import BasicBlockDecoder, BottleneckDecoder\n",
        "from resnet_autoencoder import ResNetAutoencoder"
      ]
    },
    {
      "cell_type": "code",
      "source": [
        "model = ResNetAutoencoder(encoder_block=BasicBlock, decoder_block = BasicBlockDecoder)"
      ],
      "metadata": {
        "id": "ul8xY-goDiI2"
      },
      "execution_count": 2,
      "outputs": []
    },
    {
      "cell_type": "code",
      "source": [],
      "metadata": {
        "id": "euucFpo3GS9w"
      },
      "execution_count": null,
      "outputs": []
    }
  ]
}